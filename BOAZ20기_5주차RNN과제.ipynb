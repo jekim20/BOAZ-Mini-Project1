{
  "nbformat": 4,
  "nbformat_minor": 0,
  "metadata": {
    "colab": {
      "provenance": []
    },
    "kernelspec": {
      "name": "python3",
      "display_name": "Python 3"
    },
    "language_info": {
      "name": "python"
    }
  },
  "cells": [
    {
      "cell_type": "markdown",
      "source": [
        "# **RNN을 이용한 텍스트 생성(Text Generation using RNN)**\n",
        "다대일(many-to-one) 구조의 RNN을 사용해 문맥을 반영한 텍스트를 생성하는 RNN 언어모델을 만들어 보겠습니다. <br><br>\n",
        "**Q1. 예제를 참고하여 모델에 훈련시킬 문장을 입력해봅시다. <br>\n",
        "Q2. RNN 모델의 임베딩 벡터 차원과 은닉 상태의 크기에 적절한 값을 입력하여 모델의 정확도(accuracy)를 높이고, 손실(loss)를 줄여봅시다.** <br><br>\n",
        "코드는 딥 러닝을 이용한 자연어 처리 입문(유원준) 교재에서 발췌하였습니다."
      ],
      "metadata": {
        "id": "ZhesqJYcLq3u"
      }
    },
    {
      "cell_type": "markdown",
      "source": [
        "**텍스트 샘플** \n",
        "\n",
        "| 경마장에 있는 말이 뛰고 있다 <br>\n",
        "| 그의 말이 법이다 <br>\n",
        "| 가는 말이 고와야 오는 말이 곱다 <br>\n",
        "\n",
        "모델이 전체 문장의 앞 단어들을 전부 고려하여 문맥을 학습할 수 있도록, 데이터를 재구성합니다.\n",
        "\n",
        "![20230215_170531.jpg](data:image/jpeg;base64,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)"
      ],
      "metadata": {
        "id": "ovOpoQLTGQsE"
      }
    },
    {
      "cell_type": "markdown",
      "source": [
        "## **1. 데이터에 대한 이해와 전처리**"
      ],
      "metadata": {
        "id": "yHukESUXHwMZ"
      }
    },
    {
      "cell_type": "code",
      "execution_count": 1,
      "metadata": {
        "id": "D7A7hs58LngQ"
      },
      "outputs": [],
      "source": [
        "import numpy as np\n",
        "from tensorflow.keras.preprocessing.text import Tokenizer\n",
        "from tensorflow.keras.preprocessing.sequence import pad_sequences\n",
        "from tensorflow.keras.utils import to_categorical\n",
        "from tensorflow.keras.models import Sequential\n",
        "from tensorflow.keras.layers import Embedding, Dense, SimpleRNN"
      ]
    },
    {
      "cell_type": "markdown",
      "source": [
        "***아래 문장을 지우고 자신이 모델에 학습시킬 문장을 입력해주세요. 문장 개수는 꼭 3개가 아니어도 됩니다.***"
      ],
      "metadata": {
        "id": "nJAeFXnveFrq"
      }
    },
    {
      "cell_type": "code",
      "source": [
        "text = \"\"\"경마장에 있는 말이 뛰고 있다\\n\n",
        "그의 말이 법이다\\n\n",
        "가는 말이 고와야 오는 말이 곱다\\n\"\"\""
      ],
      "metadata": {
        "id": "6X5t7QBBL2nJ"
      },
      "execution_count": 2,
      "outputs": []
    },
    {
      "cell_type": "code",
      "source": [
        "text = \"\"\"간장 공장 공장장은 강 공장장이고\\n \n",
        "된장 공장 공장장은 공 공장장이다.\\n\"\"\""
      ],
      "metadata": {
        "id": "jloTv_HBRwZm"
      },
      "execution_count": 24,
      "outputs": []
    },
    {
      "cell_type": "code",
      "source": [
        "# 단어집합 생성\n",
        "tokenizer = Tokenizer()\n",
        "tokenizer.fit_on_texts([text])\n",
        "vocab_size = len(tokenizer.word_index) + 1\n",
        "print('단어 집합의 크기: %d' % vocab_size)"
      ],
      "metadata": {
        "colab": {
          "base_uri": "https://localhost:8080/"
        },
        "id": "0jDHtNx5INwe",
        "outputId": "9653e2e6-fb3a-4ead-bb11-7c1a36ac5540"
      },
      "execution_count": 26,
      "outputs": [
        {
          "output_type": "stream",
          "name": "stdout",
          "text": [
            "단어 집합의 크기: 9\n"
          ]
        }
      ]
    },
    {
      "cell_type": "code",
      "source": [
        "# 단어와 단어에 부여된 정수 인덱스 출력\n",
        "print(tokenizer.word_index)"
      ],
      "metadata": {
        "colab": {
          "base_uri": "https://localhost:8080/"
        },
        "id": "bRsoij5fIOxU",
        "outputId": "d9bb6254-ca37-4534-bfac-0c5db0f51fca"
      },
      "execution_count": 27,
      "outputs": [
        {
          "output_type": "stream",
          "name": "stdout",
          "text": [
            "{'공장': 1, '공장장은': 2, '간장': 3, '강': 4, '공장장이고': 5, '된장': 6, '공': 7, '공장장이다': 8}\n"
          ]
        }
      ]
    },
    {
      "cell_type": "markdown",
      "source": [
        "## 2. 훈련 데이터 생성"
      ],
      "metadata": {
        "id": "3vDiaqWXMhTn"
      }
    },
    {
      "cell_type": "code",
      "source": [
        "sequences = list()\n",
        "\n",
        "for line in text.split('\\n'): # 줄바꿈 문자를 기준으로 문장 토큰화\n",
        "  encoded = tokenizer.texts_to_sequences([line])[0]\n",
        "  for i in range(1, len(encoded)):\n",
        "    sequence = encoded[:i+1]\n",
        "    sequences.append(sequence)\n",
        "\n",
        "print('학습을 위한 샘플 개수: %d' % len(sequences))"
      ],
      "metadata": {
        "colab": {
          "base_uri": "https://localhost:8080/"
        },
        "id": "uJS9drpaJDDg",
        "outputId": "7cb99d13-dbf5-4b49-b51a-21647c138e0c"
      },
      "execution_count": 28,
      "outputs": [
        {
          "output_type": "stream",
          "name": "stdout",
          "text": [
            "학습을 위한 샘플 개수: 8\n"
          ]
        }
      ]
    },
    {
      "cell_type": "code",
      "source": [
        "# 전체 샘플 출력\n",
        "# ex. [2,3]: [경마장에,있는], [2,3,1]: [경마장에,있는,말이]\n",
        "# 맨 우측의 단어를 레이블로 분리함\n",
        "print(sequences)"
      ],
      "metadata": {
        "colab": {
          "base_uri": "https://localhost:8080/"
        },
        "id": "a_ybFG9-M-Y9",
        "outputId": "99c1dac2-a3f0-452f-f0be-90e92492a6c2"
      },
      "execution_count": 29,
      "outputs": [
        {
          "output_type": "stream",
          "name": "stdout",
          "text": [
            "[[3, 1], [3, 1, 2], [3, 1, 2, 4], [3, 1, 2, 4, 5], [6, 1], [6, 1, 2], [6, 1, 2, 7], [6, 1, 2, 7, 8]]\n"
          ]
        }
      ]
    },
    {
      "cell_type": "code",
      "source": [
        "# 패딩 진행: 샘플의 길이 일치시키기\n",
        "max_len = max(len(l) for l in sequences) # 가장 길이가 긴 샘플 길이 출력\n",
        "print('샘플 최대 길이: {}'.format(max_len))"
      ],
      "metadata": {
        "colab": {
          "base_uri": "https://localhost:8080/"
        },
        "id": "B4PI9nTVNOI4",
        "outputId": "de86f3f4-715a-4ec2-e513-3b079929a63c"
      },
      "execution_count": 30,
      "outputs": [
        {
          "output_type": "stream",
          "name": "stdout",
          "text": [
            "샘플 최대 길이: 5\n"
          ]
        }
      ]
    },
    {
      "cell_type": "code",
      "source": [
        "# 패딩 결과 확인\n",
        "sequences = pad_sequences(sequences, maxlen=max_len, padding='pre')\n",
        "print(sequences)"
      ],
      "metadata": {
        "colab": {
          "base_uri": "https://localhost:8080/"
        },
        "id": "-Hoa5616Qr06",
        "outputId": "ea34aef7-ed67-4ca7-9194-53c0581c5c0e"
      },
      "execution_count": 31,
      "outputs": [
        {
          "output_type": "stream",
          "name": "stdout",
          "text": [
            "[[0 0 0 3 1]\n",
            " [0 0 3 1 2]\n",
            " [0 3 1 2 4]\n",
            " [3 1 2 4 5]\n",
            " [0 0 0 6 1]\n",
            " [0 0 6 1 2]\n",
            " [0 6 1 2 7]\n",
            " [6 1 2 7 8]]\n"
          ]
        }
      ]
    },
    {
      "cell_type": "code",
      "source": [
        "# 라벨링 진행 \n",
        "sequences = np.array(sequences)\n",
        "X = sequences[:, :-1]\n",
        "y = sequences[:, -1]"
      ],
      "metadata": {
        "id": "BGi5tQfbQ4zx"
      },
      "execution_count": 32,
      "outputs": []
    },
    {
      "cell_type": "code",
      "source": [
        "print(X)"
      ],
      "metadata": {
        "colab": {
          "base_uri": "https://localhost:8080/"
        },
        "id": "qFcAIrMNSWLH",
        "outputId": "baf38da4-ded4-4dae-94ed-6fcec51d4a80"
      },
      "execution_count": 33,
      "outputs": [
        {
          "output_type": "stream",
          "name": "stdout",
          "text": [
            "[[0 0 0 3]\n",
            " [0 0 3 1]\n",
            " [0 3 1 2]\n",
            " [3 1 2 4]\n",
            " [0 0 0 6]\n",
            " [0 0 6 1]\n",
            " [0 6 1 2]\n",
            " [6 1 2 7]]\n"
          ]
        }
      ]
    },
    {
      "cell_type": "code",
      "source": [
        "print(y)"
      ],
      "metadata": {
        "colab": {
          "base_uri": "https://localhost:8080/"
        },
        "id": "X4qcUlyaSYjd",
        "outputId": "122c1517-485c-418a-c281-ee38a137a99f"
      },
      "execution_count": 34,
      "outputs": [
        {
          "output_type": "stream",
          "name": "stdout",
          "text": [
            "[1 2 4 5 1 2 7 8]\n"
          ]
        }
      ]
    },
    {
      "cell_type": "code",
      "source": [
        "# 원 핫 인코딩 진행\n",
        "y = to_categorical(y, num_classes=vocab_size)\n",
        "print(y)"
      ],
      "metadata": {
        "colab": {
          "base_uri": "https://localhost:8080/"
        },
        "id": "aeCUgqnQSZEO",
        "outputId": "0bd5cd91-f538-41a9-bd95-a2ee1ce39d4c"
      },
      "execution_count": 35,
      "outputs": [
        {
          "output_type": "stream",
          "name": "stdout",
          "text": [
            "[[0. 1. 0. 0. 0. 0. 0. 0. 0.]\n",
            " [0. 0. 1. 0. 0. 0. 0. 0. 0.]\n",
            " [0. 0. 0. 0. 1. 0. 0. 0. 0.]\n",
            " [0. 0. 0. 0. 0. 1. 0. 0. 0.]\n",
            " [0. 1. 0. 0. 0. 0. 0. 0. 0.]\n",
            " [0. 0. 1. 0. 0. 0. 0. 0. 0.]\n",
            " [0. 0. 0. 0. 0. 0. 0. 1. 0.]\n",
            " [0. 0. 0. 0. 0. 0. 0. 0. 1.]]\n"
          ]
        }
      ]
    },
    {
      "cell_type": "markdown",
      "source": [
        "## 3. RNN 모델\n",
        "**모델 설명**: 마지막 시점에서 모든 가능한 단어 중 하나의 단어를 예측하는, 다중 클래스 분류 문제를 수행하는 RNN 모델입니다. <br>\n",
        "따라서 출력층에 소프트맥스 활성화 함수를 사용하고, 손실 함수로 크로스 엔트로피 함수를 사용합니다. <br><br>\n",
        "***아래의 ###을 지우고 임베딩 벡터 차원과 은닉 상태의 크기를 적절하게 입력해주세요.***"
      ],
      "metadata": {
        "id": "trrxvTlUSn1l"
      }
    },
    {
      "cell_type": "code",
      "source": [
        "embedding_dim = 8\n",
        "hidden_units = 8\n",
        "\n",
        "model = Sequential()\n",
        "model.add(Embedding(vocab_size, embedding_dim))\n",
        "model.add(SimpleRNN(hidden_units))\n",
        "model.add(Dense(vocab_size, activation='softmax'))\n",
        "model.compile(loss='categorical_crossentropy', optimizer='adam', metrics=['accuracy'])\n",
        "model.fit(X, y, epochs=200, verbose=2)"
      ],
      "metadata": {
        "colab": {
          "base_uri": "https://localhost:8080/"
        },
        "id": "rMEWdLeFSlh1",
        "outputId": "553007d1-8843-4613-b402-982a770fe563"
      },
      "execution_count": 38,
      "outputs": [
        {
          "output_type": "stream",
          "name": "stdout",
          "text": [
            "Epoch 1/200\n",
            "1/1 - 1s - loss: 2.2203 - accuracy: 0.0000e+00 - 1s/epoch - 1s/step\n",
            "Epoch 2/200\n",
            "1/1 - 0s - loss: 2.2118 - accuracy: 0.0000e+00 - 8ms/epoch - 8ms/step\n",
            "Epoch 3/200\n",
            "1/1 - 0s - loss: 2.2035 - accuracy: 0.0000e+00 - 8ms/epoch - 8ms/step\n",
            "Epoch 4/200\n",
            "1/1 - 0s - loss: 2.1953 - accuracy: 0.0000e+00 - 12ms/epoch - 12ms/step\n",
            "Epoch 5/200\n",
            "1/1 - 0s - loss: 2.1873 - accuracy: 0.0000e+00 - 8ms/epoch - 8ms/step\n",
            "Epoch 6/200\n",
            "1/1 - 0s - loss: 2.1794 - accuracy: 0.1250 - 9ms/epoch - 9ms/step\n",
            "Epoch 7/200\n",
            "1/1 - 0s - loss: 2.1717 - accuracy: 0.1250 - 10ms/epoch - 10ms/step\n",
            "Epoch 8/200\n",
            "1/1 - 0s - loss: 2.1642 - accuracy: 0.1250 - 9ms/epoch - 9ms/step\n",
            "Epoch 9/200\n",
            "1/1 - 0s - loss: 2.1567 - accuracy: 0.1250 - 10ms/epoch - 10ms/step\n",
            "Epoch 10/200\n",
            "1/1 - 0s - loss: 2.1493 - accuracy: 0.2500 - 10ms/epoch - 10ms/step\n",
            "Epoch 11/200\n",
            "1/1 - 0s - loss: 2.1419 - accuracy: 0.2500 - 10ms/epoch - 10ms/step\n",
            "Epoch 12/200\n",
            "1/1 - 0s - loss: 2.1346 - accuracy: 0.2500 - 10ms/epoch - 10ms/step\n",
            "Epoch 13/200\n",
            "1/1 - 0s - loss: 2.1273 - accuracy: 0.2500 - 10ms/epoch - 10ms/step\n",
            "Epoch 14/200\n",
            "1/1 - 0s - loss: 2.1201 - accuracy: 0.2500 - 9ms/epoch - 9ms/step\n",
            "Epoch 15/200\n",
            "1/1 - 0s - loss: 2.1129 - accuracy: 0.2500 - 11ms/epoch - 11ms/step\n",
            "Epoch 16/200\n",
            "1/1 - 0s - loss: 2.1057 - accuracy: 0.2500 - 9ms/epoch - 9ms/step\n",
            "Epoch 17/200\n",
            "1/1 - 0s - loss: 2.0985 - accuracy: 0.2500 - 8ms/epoch - 8ms/step\n",
            "Epoch 18/200\n",
            "1/1 - 0s - loss: 2.0913 - accuracy: 0.2500 - 9ms/epoch - 9ms/step\n",
            "Epoch 19/200\n",
            "1/1 - 0s - loss: 2.0841 - accuracy: 0.2500 - 10ms/epoch - 10ms/step\n",
            "Epoch 20/200\n",
            "1/1 - 0s - loss: 2.0768 - accuracy: 0.3750 - 11ms/epoch - 11ms/step\n",
            "Epoch 21/200\n",
            "1/1 - 0s - loss: 2.0696 - accuracy: 0.3750 - 11ms/epoch - 11ms/step\n",
            "Epoch 22/200\n",
            "1/1 - 0s - loss: 2.0623 - accuracy: 0.3750 - 10ms/epoch - 10ms/step\n",
            "Epoch 23/200\n",
            "1/1 - 0s - loss: 2.0550 - accuracy: 0.3750 - 9ms/epoch - 9ms/step\n",
            "Epoch 24/200\n",
            "1/1 - 0s - loss: 2.0476 - accuracy: 0.3750 - 15ms/epoch - 15ms/step\n",
            "Epoch 25/200\n",
            "1/1 - 0s - loss: 2.0402 - accuracy: 0.3750 - 8ms/epoch - 8ms/step\n",
            "Epoch 26/200\n",
            "1/1 - 0s - loss: 2.0328 - accuracy: 0.3750 - 9ms/epoch - 9ms/step\n",
            "Epoch 27/200\n",
            "1/1 - 0s - loss: 2.0253 - accuracy: 0.3750 - 9ms/epoch - 9ms/step\n",
            "Epoch 28/200\n",
            "1/1 - 0s - loss: 2.0177 - accuracy: 0.3750 - 9ms/epoch - 9ms/step\n",
            "Epoch 29/200\n",
            "1/1 - 0s - loss: 2.0101 - accuracy: 0.3750 - 9ms/epoch - 9ms/step\n",
            "Epoch 30/200\n",
            "1/1 - 0s - loss: 2.0024 - accuracy: 0.3750 - 9ms/epoch - 9ms/step\n",
            "Epoch 31/200\n",
            "1/1 - 0s - loss: 1.9947 - accuracy: 0.3750 - 8ms/epoch - 8ms/step\n",
            "Epoch 32/200\n",
            "1/1 - 0s - loss: 1.9869 - accuracy: 0.3750 - 9ms/epoch - 9ms/step\n",
            "Epoch 33/200\n",
            "1/1 - 0s - loss: 1.9790 - accuracy: 0.3750 - 10ms/epoch - 10ms/step\n",
            "Epoch 34/200\n",
            "1/1 - 0s - loss: 1.9711 - accuracy: 0.3750 - 9ms/epoch - 9ms/step\n",
            "Epoch 35/200\n",
            "1/1 - 0s - loss: 1.9631 - accuracy: 0.3750 - 16ms/epoch - 16ms/step\n",
            "Epoch 36/200\n",
            "1/1 - 0s - loss: 1.9551 - accuracy: 0.3750 - 10ms/epoch - 10ms/step\n",
            "Epoch 37/200\n",
            "1/1 - 0s - loss: 1.9469 - accuracy: 0.3750 - 8ms/epoch - 8ms/step\n",
            "Epoch 38/200\n",
            "1/1 - 0s - loss: 1.9387 - accuracy: 0.3750 - 8ms/epoch - 8ms/step\n",
            "Epoch 39/200\n",
            "1/1 - 0s - loss: 1.9305 - accuracy: 0.3750 - 12ms/epoch - 12ms/step\n",
            "Epoch 40/200\n",
            "1/1 - 0s - loss: 1.9221 - accuracy: 0.3750 - 10ms/epoch - 10ms/step\n",
            "Epoch 41/200\n",
            "1/1 - 0s - loss: 1.9137 - accuracy: 0.3750 - 9ms/epoch - 9ms/step\n",
            "Epoch 42/200\n",
            "1/1 - 0s - loss: 1.9053 - accuracy: 0.3750 - 9ms/epoch - 9ms/step\n",
            "Epoch 43/200\n",
            "1/1 - 0s - loss: 1.8968 - accuracy: 0.3750 - 8ms/epoch - 8ms/step\n",
            "Epoch 44/200\n",
            "1/1 - 0s - loss: 1.8882 - accuracy: 0.3750 - 9ms/epoch - 9ms/step\n",
            "Epoch 45/200\n",
            "1/1 - 0s - loss: 1.8795 - accuracy: 0.3750 - 9ms/epoch - 9ms/step\n",
            "Epoch 46/200\n",
            "1/1 - 0s - loss: 1.8708 - accuracy: 0.3750 - 8ms/epoch - 8ms/step\n",
            "Epoch 47/200\n",
            "1/1 - 0s - loss: 1.8621 - accuracy: 0.3750 - 10ms/epoch - 10ms/step\n",
            "Epoch 48/200\n",
            "1/1 - 0s - loss: 1.8533 - accuracy: 0.3750 - 10ms/epoch - 10ms/step\n",
            "Epoch 49/200\n",
            "1/1 - 0s - loss: 1.8444 - accuracy: 0.3750 - 8ms/epoch - 8ms/step\n",
            "Epoch 50/200\n",
            "1/1 - 0s - loss: 1.8355 - accuracy: 0.3750 - 10ms/epoch - 10ms/step\n",
            "Epoch 51/200\n",
            "1/1 - 0s - loss: 1.8266 - accuracy: 0.3750 - 9ms/epoch - 9ms/step\n",
            "Epoch 52/200\n",
            "1/1 - 0s - loss: 1.8175 - accuracy: 0.3750 - 8ms/epoch - 8ms/step\n",
            "Epoch 53/200\n",
            "1/1 - 0s - loss: 1.8085 - accuracy: 0.3750 - 9ms/epoch - 9ms/step\n",
            "Epoch 54/200\n",
            "1/1 - 0s - loss: 1.7994 - accuracy: 0.3750 - 10ms/epoch - 10ms/step\n",
            "Epoch 55/200\n",
            "1/1 - 0s - loss: 1.7902 - accuracy: 0.3750 - 8ms/epoch - 8ms/step\n",
            "Epoch 56/200\n",
            "1/1 - 0s - loss: 1.7810 - accuracy: 0.3750 - 11ms/epoch - 11ms/step\n",
            "Epoch 57/200\n",
            "1/1 - 0s - loss: 1.7717 - accuracy: 0.3750 - 9ms/epoch - 9ms/step\n",
            "Epoch 58/200\n",
            "1/1 - 0s - loss: 1.7624 - accuracy: 0.3750 - 11ms/epoch - 11ms/step\n",
            "Epoch 59/200\n",
            "1/1 - 0s - loss: 1.7530 - accuracy: 0.3750 - 9ms/epoch - 9ms/step\n",
            "Epoch 60/200\n",
            "1/1 - 0s - loss: 1.7436 - accuracy: 0.3750 - 10ms/epoch - 10ms/step\n",
            "Epoch 61/200\n",
            "1/1 - 0s - loss: 1.7341 - accuracy: 0.5000 - 9ms/epoch - 9ms/step\n",
            "Epoch 62/200\n",
            "1/1 - 0s - loss: 1.7245 - accuracy: 0.5000 - 9ms/epoch - 9ms/step\n",
            "Epoch 63/200\n",
            "1/1 - 0s - loss: 1.7149 - accuracy: 0.5000 - 8ms/epoch - 8ms/step\n",
            "Epoch 64/200\n",
            "1/1 - 0s - loss: 1.7053 - accuracy: 0.5000 - 8ms/epoch - 8ms/step\n",
            "Epoch 65/200\n",
            "1/1 - 0s - loss: 1.6955 - accuracy: 0.5000 - 8ms/epoch - 8ms/step\n",
            "Epoch 66/200\n",
            "1/1 - 0s - loss: 1.6857 - accuracy: 0.5000 - 27ms/epoch - 27ms/step\n",
            "Epoch 67/200\n",
            "1/1 - 0s - loss: 1.6759 - accuracy: 0.5000 - 11ms/epoch - 11ms/step\n",
            "Epoch 68/200\n",
            "1/1 - 0s - loss: 1.6659 - accuracy: 0.5000 - 22ms/epoch - 22ms/step\n",
            "Epoch 69/200\n",
            "1/1 - 0s - loss: 1.6559 - accuracy: 0.6250 - 13ms/epoch - 13ms/step\n",
            "Epoch 70/200\n",
            "1/1 - 0s - loss: 1.6459 - accuracy: 0.6250 - 10ms/epoch - 10ms/step\n",
            "Epoch 71/200\n",
            "1/1 - 0s - loss: 1.6357 - accuracy: 0.6250 - 11ms/epoch - 11ms/step\n",
            "Epoch 72/200\n",
            "1/1 - 0s - loss: 1.6255 - accuracy: 0.6250 - 35ms/epoch - 35ms/step\n",
            "Epoch 73/200\n",
            "1/1 - 0s - loss: 1.6152 - accuracy: 0.6250 - 40ms/epoch - 40ms/step\n",
            "Epoch 74/200\n",
            "1/1 - 0s - loss: 1.6048 - accuracy: 0.6250 - 36ms/epoch - 36ms/step\n",
            "Epoch 75/200\n",
            "1/1 - 0s - loss: 1.5944 - accuracy: 0.6250 - 17ms/epoch - 17ms/step\n",
            "Epoch 76/200\n",
            "1/1 - 0s - loss: 1.5839 - accuracy: 0.6250 - 10ms/epoch - 10ms/step\n",
            "Epoch 77/200\n",
            "1/1 - 0s - loss: 1.5733 - accuracy: 0.6250 - 11ms/epoch - 11ms/step\n",
            "Epoch 78/200\n",
            "1/1 - 0s - loss: 1.5626 - accuracy: 0.6250 - 10ms/epoch - 10ms/step\n",
            "Epoch 79/200\n",
            "1/1 - 0s - loss: 1.5519 - accuracy: 0.6250 - 11ms/epoch - 11ms/step\n",
            "Epoch 80/200\n",
            "1/1 - 0s - loss: 1.5411 - accuracy: 0.6250 - 9ms/epoch - 9ms/step\n",
            "Epoch 81/200\n",
            "1/1 - 0s - loss: 1.5302 - accuracy: 0.6250 - 8ms/epoch - 8ms/step\n",
            "Epoch 82/200\n",
            "1/1 - 0s - loss: 1.5192 - accuracy: 0.6250 - 8ms/epoch - 8ms/step\n",
            "Epoch 83/200\n",
            "1/1 - 0s - loss: 1.5082 - accuracy: 0.6250 - 9ms/epoch - 9ms/step\n",
            "Epoch 84/200\n",
            "1/1 - 0s - loss: 1.4972 - accuracy: 0.6250 - 9ms/epoch - 9ms/step\n",
            "Epoch 85/200\n",
            "1/1 - 0s - loss: 1.4860 - accuracy: 0.6250 - 9ms/epoch - 9ms/step\n",
            "Epoch 86/200\n",
            "1/1 - 0s - loss: 1.4749 - accuracy: 0.6250 - 8ms/epoch - 8ms/step\n",
            "Epoch 87/200\n",
            "1/1 - 0s - loss: 1.4637 - accuracy: 0.6250 - 9ms/epoch - 9ms/step\n",
            "Epoch 88/200\n",
            "1/1 - 0s - loss: 1.4524 - accuracy: 0.6250 - 8ms/epoch - 8ms/step\n",
            "Epoch 89/200\n",
            "1/1 - 0s - loss: 1.4411 - accuracy: 0.6250 - 8ms/epoch - 8ms/step\n",
            "Epoch 90/200\n",
            "1/1 - 0s - loss: 1.4298 - accuracy: 0.6250 - 8ms/epoch - 8ms/step\n",
            "Epoch 91/200\n",
            "1/1 - 0s - loss: 1.4184 - accuracy: 0.6250 - 8ms/epoch - 8ms/step\n",
            "Epoch 92/200\n",
            "1/1 - 0s - loss: 1.4070 - accuracy: 0.6250 - 9ms/epoch - 9ms/step\n",
            "Epoch 93/200\n",
            "1/1 - 0s - loss: 1.3956 - accuracy: 0.6250 - 9ms/epoch - 9ms/step\n",
            "Epoch 94/200\n",
            "1/1 - 0s - loss: 1.3842 - accuracy: 0.6250 - 8ms/epoch - 8ms/step\n",
            "Epoch 95/200\n",
            "1/1 - 0s - loss: 1.3728 - accuracy: 0.6250 - 9ms/epoch - 9ms/step\n",
            "Epoch 96/200\n",
            "1/1 - 0s - loss: 1.3614 - accuracy: 0.6250 - 8ms/epoch - 8ms/step\n",
            "Epoch 97/200\n",
            "1/1 - 0s - loss: 1.3499 - accuracy: 0.6250 - 9ms/epoch - 9ms/step\n",
            "Epoch 98/200\n",
            "1/1 - 0s - loss: 1.3385 - accuracy: 0.6250 - 8ms/epoch - 8ms/step\n",
            "Epoch 99/200\n",
            "1/1 - 0s - loss: 1.3271 - accuracy: 0.6250 - 9ms/epoch - 9ms/step\n",
            "Epoch 100/200\n",
            "1/1 - 0s - loss: 1.3158 - accuracy: 0.6250 - 9ms/epoch - 9ms/step\n",
            "Epoch 101/200\n",
            "1/1 - 0s - loss: 1.3044 - accuracy: 0.6250 - 8ms/epoch - 8ms/step\n",
            "Epoch 102/200\n",
            "1/1 - 0s - loss: 1.2931 - accuracy: 0.6250 - 12ms/epoch - 12ms/step\n",
            "Epoch 103/200\n",
            "1/1 - 0s - loss: 1.2819 - accuracy: 0.6250 - 11ms/epoch - 11ms/step\n",
            "Epoch 104/200\n",
            "1/1 - 0s - loss: 1.2707 - accuracy: 0.6250 - 10ms/epoch - 10ms/step\n",
            "Epoch 105/200\n",
            "1/1 - 0s - loss: 1.2595 - accuracy: 0.6250 - 10ms/epoch - 10ms/step\n",
            "Epoch 106/200\n",
            "1/1 - 0s - loss: 1.2484 - accuracy: 0.6250 - 10ms/epoch - 10ms/step\n",
            "Epoch 107/200\n",
            "1/1 - 0s - loss: 1.2374 - accuracy: 0.6250 - 10ms/epoch - 10ms/step\n",
            "Epoch 108/200\n",
            "1/1 - 0s - loss: 1.2264 - accuracy: 0.6250 - 10ms/epoch - 10ms/step\n",
            "Epoch 109/200\n",
            "1/1 - 0s - loss: 1.2155 - accuracy: 0.6250 - 10ms/epoch - 10ms/step\n",
            "Epoch 110/200\n",
            "1/1 - 0s - loss: 1.2047 - accuracy: 0.6250 - 11ms/epoch - 11ms/step\n",
            "Epoch 111/200\n",
            "1/1 - 0s - loss: 1.1940 - accuracy: 0.6250 - 8ms/epoch - 8ms/step\n",
            "Epoch 112/200\n",
            "1/1 - 0s - loss: 1.1833 - accuracy: 0.6250 - 9ms/epoch - 9ms/step\n",
            "Epoch 113/200\n",
            "1/1 - 0s - loss: 1.1728 - accuracy: 0.7500 - 18ms/epoch - 18ms/step\n",
            "Epoch 114/200\n",
            "1/1 - 0s - loss: 1.1623 - accuracy: 0.7500 - 10ms/epoch - 10ms/step\n",
            "Epoch 115/200\n",
            "1/1 - 0s - loss: 1.1519 - accuracy: 0.7500 - 8ms/epoch - 8ms/step\n",
            "Epoch 116/200\n",
            "1/1 - 0s - loss: 1.1416 - accuracy: 0.7500 - 8ms/epoch - 8ms/step\n",
            "Epoch 117/200\n",
            "1/1 - 0s - loss: 1.1314 - accuracy: 0.7500 - 10ms/epoch - 10ms/step\n",
            "Epoch 118/200\n",
            "1/1 - 0s - loss: 1.1214 - accuracy: 0.7500 - 10ms/epoch - 10ms/step\n",
            "Epoch 119/200\n",
            "1/1 - 0s - loss: 1.1114 - accuracy: 0.7500 - 8ms/epoch - 8ms/step\n",
            "Epoch 120/200\n",
            "1/1 - 0s - loss: 1.1015 - accuracy: 0.7500 - 8ms/epoch - 8ms/step\n",
            "Epoch 121/200\n",
            "1/1 - 0s - loss: 1.0917 - accuracy: 0.7500 - 9ms/epoch - 9ms/step\n",
            "Epoch 122/200\n",
            "1/1 - 0s - loss: 1.0821 - accuracy: 0.7500 - 10ms/epoch - 10ms/step\n",
            "Epoch 123/200\n",
            "1/1 - 0s - loss: 1.0725 - accuracy: 0.7500 - 11ms/epoch - 11ms/step\n",
            "Epoch 124/200\n",
            "1/1 - 0s - loss: 1.0631 - accuracy: 0.7500 - 9ms/epoch - 9ms/step\n",
            "Epoch 125/200\n",
            "1/1 - 0s - loss: 1.0537 - accuracy: 0.7500 - 8ms/epoch - 8ms/step\n",
            "Epoch 126/200\n",
            "1/1 - 0s - loss: 1.0445 - accuracy: 0.7500 - 9ms/epoch - 9ms/step\n",
            "Epoch 127/200\n",
            "1/1 - 0s - loss: 1.0354 - accuracy: 0.7500 - 9ms/epoch - 9ms/step\n",
            "Epoch 128/200\n",
            "1/1 - 0s - loss: 1.0264 - accuracy: 0.7500 - 9ms/epoch - 9ms/step\n",
            "Epoch 129/200\n",
            "1/1 - 0s - loss: 1.0175 - accuracy: 0.7500 - 9ms/epoch - 9ms/step\n",
            "Epoch 130/200\n",
            "1/1 - 0s - loss: 1.0087 - accuracy: 0.8750 - 9ms/epoch - 9ms/step\n",
            "Epoch 131/200\n",
            "1/1 - 0s - loss: 1.0000 - accuracy: 0.8750 - 11ms/epoch - 11ms/step\n",
            "Epoch 132/200\n",
            "1/1 - 0s - loss: 0.9914 - accuracy: 0.8750 - 9ms/epoch - 9ms/step\n",
            "Epoch 133/200\n",
            "1/1 - 0s - loss: 0.9829 - accuracy: 0.8750 - 11ms/epoch - 11ms/step\n",
            "Epoch 134/200\n",
            "1/1 - 0s - loss: 0.9745 - accuracy: 0.8750 - 10ms/epoch - 10ms/step\n",
            "Epoch 135/200\n",
            "1/1 - 0s - loss: 0.9662 - accuracy: 0.8750 - 10ms/epoch - 10ms/step\n",
            "Epoch 136/200\n",
            "1/1 - 0s - loss: 0.9580 - accuracy: 0.8750 - 10ms/epoch - 10ms/step\n",
            "Epoch 137/200\n",
            "1/1 - 0s - loss: 0.9499 - accuracy: 0.8750 - 9ms/epoch - 9ms/step\n",
            "Epoch 138/200\n",
            "1/1 - 0s - loss: 0.9419 - accuracy: 0.8750 - 9ms/epoch - 9ms/step\n",
            "Epoch 139/200\n",
            "1/1 - 0s - loss: 0.9340 - accuracy: 0.8750 - 9ms/epoch - 9ms/step\n",
            "Epoch 140/200\n",
            "1/1 - 0s - loss: 0.9262 - accuracy: 0.8750 - 9ms/epoch - 9ms/step\n",
            "Epoch 141/200\n",
            "1/1 - 0s - loss: 0.9185 - accuracy: 0.8750 - 9ms/epoch - 9ms/step\n",
            "Epoch 142/200\n",
            "1/1 - 0s - loss: 0.9109 - accuracy: 0.8750 - 9ms/epoch - 9ms/step\n",
            "Epoch 143/200\n",
            "1/1 - 0s - loss: 0.9034 - accuracy: 0.8750 - 9ms/epoch - 9ms/step\n",
            "Epoch 144/200\n",
            "1/1 - 0s - loss: 0.8960 - accuracy: 0.8750 - 10ms/epoch - 10ms/step\n",
            "Epoch 145/200\n",
            "1/1 - 0s - loss: 0.8887 - accuracy: 0.8750 - 9ms/epoch - 9ms/step\n",
            "Epoch 146/200\n",
            "1/1 - 0s - loss: 0.8814 - accuracy: 0.8750 - 11ms/epoch - 11ms/step\n",
            "Epoch 147/200\n",
            "1/1 - 0s - loss: 0.8742 - accuracy: 0.8750 - 12ms/epoch - 12ms/step\n",
            "Epoch 148/200\n",
            "1/1 - 0s - loss: 0.8672 - accuracy: 0.8750 - 9ms/epoch - 9ms/step\n",
            "Epoch 149/200\n",
            "1/1 - 0s - loss: 0.8602 - accuracy: 0.8750 - 9ms/epoch - 9ms/step\n",
            "Epoch 150/200\n",
            "1/1 - 0s - loss: 0.8533 - accuracy: 0.8750 - 9ms/epoch - 9ms/step\n",
            "Epoch 151/200\n",
            "1/1 - 0s - loss: 0.8464 - accuracy: 0.8750 - 10ms/epoch - 10ms/step\n",
            "Epoch 152/200\n",
            "1/1 - 0s - loss: 0.8397 - accuracy: 0.8750 - 9ms/epoch - 9ms/step\n",
            "Epoch 153/200\n",
            "1/1 - 0s - loss: 0.8330 - accuracy: 0.8750 - 8ms/epoch - 8ms/step\n",
            "Epoch 154/200\n",
            "1/1 - 0s - loss: 0.8264 - accuracy: 0.8750 - 10ms/epoch - 10ms/step\n",
            "Epoch 155/200\n",
            "1/1 - 0s - loss: 0.8199 - accuracy: 0.8750 - 9ms/epoch - 9ms/step\n",
            "Epoch 156/200\n",
            "1/1 - 0s - loss: 0.8134 - accuracy: 0.8750 - 9ms/epoch - 9ms/step\n",
            "Epoch 157/200\n",
            "1/1 - 0s - loss: 0.8071 - accuracy: 0.8750 - 9ms/epoch - 9ms/step\n",
            "Epoch 158/200\n",
            "1/1 - 0s - loss: 0.8008 - accuracy: 0.8750 - 10ms/epoch - 10ms/step\n",
            "Epoch 159/200\n",
            "1/1 - 0s - loss: 0.7945 - accuracy: 0.8750 - 10ms/epoch - 10ms/step\n",
            "Epoch 160/200\n",
            "1/1 - 0s - loss: 0.7884 - accuracy: 0.8750 - 9ms/epoch - 9ms/step\n",
            "Epoch 161/200\n",
            "1/1 - 0s - loss: 0.7823 - accuracy: 0.8750 - 9ms/epoch - 9ms/step\n",
            "Epoch 162/200\n",
            "1/1 - 0s - loss: 0.7763 - accuracy: 0.8750 - 9ms/epoch - 9ms/step\n",
            "Epoch 163/200\n",
            "1/1 - 0s - loss: 0.7703 - accuracy: 0.8750 - 8ms/epoch - 8ms/step\n",
            "Epoch 164/200\n",
            "1/1 - 0s - loss: 0.7644 - accuracy: 0.8750 - 9ms/epoch - 9ms/step\n",
            "Epoch 165/200\n",
            "1/1 - 0s - loss: 0.7586 - accuracy: 0.8750 - 9ms/epoch - 9ms/step\n",
            "Epoch 166/200\n",
            "1/1 - 0s - loss: 0.7528 - accuracy: 0.8750 - 10ms/epoch - 10ms/step\n",
            "Epoch 167/200\n",
            "1/1 - 0s - loss: 0.7471 - accuracy: 0.8750 - 9ms/epoch - 9ms/step\n",
            "Epoch 168/200\n",
            "1/1 - 0s - loss: 0.7415 - accuracy: 0.8750 - 11ms/epoch - 11ms/step\n",
            "Epoch 169/200\n",
            "1/1 - 0s - loss: 0.7359 - accuracy: 0.8750 - 10ms/epoch - 10ms/step\n",
            "Epoch 170/200\n",
            "1/1 - 0s - loss: 0.7304 - accuracy: 0.8750 - 10ms/epoch - 10ms/step\n",
            "Epoch 171/200\n",
            "1/1 - 0s - loss: 0.7249 - accuracy: 0.8750 - 9ms/epoch - 9ms/step\n",
            "Epoch 172/200\n",
            "1/1 - 0s - loss: 0.7195 - accuracy: 0.8750 - 9ms/epoch - 9ms/step\n",
            "Epoch 173/200\n",
            "1/1 - 0s - loss: 0.7142 - accuracy: 0.8750 - 10ms/epoch - 10ms/step\n",
            "Epoch 174/200\n",
            "1/1 - 0s - loss: 0.7089 - accuracy: 0.8750 - 12ms/epoch - 12ms/step\n",
            "Epoch 175/200\n",
            "1/1 - 0s - loss: 0.7036 - accuracy: 0.8750 - 12ms/epoch - 12ms/step\n",
            "Epoch 176/200\n",
            "1/1 - 0s - loss: 0.6984 - accuracy: 0.8750 - 11ms/epoch - 11ms/step\n",
            "Epoch 177/200\n",
            "1/1 - 0s - loss: 0.6933 - accuracy: 0.8750 - 9ms/epoch - 9ms/step\n",
            "Epoch 178/200\n",
            "1/1 - 0s - loss: 0.6882 - accuracy: 0.8750 - 11ms/epoch - 11ms/step\n",
            "Epoch 179/200\n",
            "1/1 - 0s - loss: 0.6832 - accuracy: 0.8750 - 9ms/epoch - 9ms/step\n",
            "Epoch 180/200\n",
            "1/1 - 0s - loss: 0.6782 - accuracy: 0.8750 - 9ms/epoch - 9ms/step\n",
            "Epoch 181/200\n",
            "1/1 - 0s - loss: 0.6733 - accuracy: 0.8750 - 8ms/epoch - 8ms/step\n",
            "Epoch 182/200\n",
            "1/1 - 0s - loss: 0.6684 - accuracy: 0.8750 - 10ms/epoch - 10ms/step\n",
            "Epoch 183/200\n",
            "1/1 - 0s - loss: 0.6636 - accuracy: 0.8750 - 11ms/epoch - 11ms/step\n",
            "Epoch 184/200\n",
            "1/1 - 0s - loss: 0.6588 - accuracy: 0.8750 - 9ms/epoch - 9ms/step\n",
            "Epoch 185/200\n",
            "1/1 - 0s - loss: 0.6541 - accuracy: 0.8750 - 9ms/epoch - 9ms/step\n",
            "Epoch 186/200\n",
            "1/1 - 0s - loss: 0.6494 - accuracy: 0.8750 - 9ms/epoch - 9ms/step\n",
            "Epoch 187/200\n",
            "1/1 - 0s - loss: 0.6447 - accuracy: 0.8750 - 11ms/epoch - 11ms/step\n",
            "Epoch 188/200\n",
            "1/1 - 0s - loss: 0.6401 - accuracy: 0.8750 - 9ms/epoch - 9ms/step\n",
            "Epoch 189/200\n",
            "1/1 - 0s - loss: 0.6356 - accuracy: 0.8750 - 8ms/epoch - 8ms/step\n",
            "Epoch 190/200\n",
            "1/1 - 0s - loss: 0.6311 - accuracy: 0.8750 - 10ms/epoch - 10ms/step\n",
            "Epoch 191/200\n",
            "1/1 - 0s - loss: 0.6266 - accuracy: 0.8750 - 9ms/epoch - 9ms/step\n",
            "Epoch 192/200\n",
            "1/1 - 0s - loss: 0.6222 - accuracy: 0.8750 - 9ms/epoch - 9ms/step\n",
            "Epoch 193/200\n",
            "1/1 - 0s - loss: 0.6178 - accuracy: 0.8750 - 9ms/epoch - 9ms/step\n",
            "Epoch 194/200\n",
            "1/1 - 0s - loss: 0.6135 - accuracy: 0.8750 - 8ms/epoch - 8ms/step\n",
            "Epoch 195/200\n",
            "1/1 - 0s - loss: 0.6091 - accuracy: 0.8750 - 8ms/epoch - 8ms/step\n",
            "Epoch 196/200\n",
            "1/1 - 0s - loss: 0.6049 - accuracy: 0.8750 - 8ms/epoch - 8ms/step\n",
            "Epoch 197/200\n",
            "1/1 - 0s - loss: 0.6007 - accuracy: 0.8750 - 14ms/epoch - 14ms/step\n",
            "Epoch 198/200\n",
            "1/1 - 0s - loss: 0.5965 - accuracy: 0.8750 - 12ms/epoch - 12ms/step\n",
            "Epoch 199/200\n",
            "1/1 - 0s - loss: 0.5923 - accuracy: 0.8750 - 11ms/epoch - 11ms/step\n",
            "Epoch 200/200\n",
            "1/1 - 0s - loss: 0.5882 - accuracy: 0.8750 - 9ms/epoch - 9ms/step\n"
          ]
        },
        {
          "output_type": "execute_result",
          "data": {
            "text/plain": [
              "<keras.callbacks.History at 0x7f72d04dc940>"
            ]
          },
          "metadata": {},
          "execution_count": 38
        }
      ]
    },
    {
      "cell_type": "markdown",
      "source": [
        "***아래의 ###을 지우고 자신이 학습시킨 모델의 최종 정확도와 손실값을 입력해주세요.*** <br>\n",
        "accuracy: 0.8750  <br>\n",
        "loss: 0.5882"
      ],
      "metadata": {
        "id": "g7HcMursdnjN"
      }
    },
    {
      "cell_type": "markdown",
      "source": [
        "## 4. 모델 예측 결과 확인\n",
        "입력된 단어로부터 다음 단어를 예측해 문장을 만들어 내는 함수 생성"
      ],
      "metadata": {
        "id": "W8gydYaHWfh2"
      }
    },
    {
      "cell_type": "code",
      "source": [
        "def sentence_generation(model, tokenizer, current_word, n):\n",
        "  init_word = current_word\n",
        "  sentence = ''\n",
        "\n",
        "  for _ in range(n):\n",
        "    # 현재 단어에 대한 정수 인코딩과 패딩\n",
        "    encoded = tokenizer.texts_to_sequences([current_word])[0]\n",
        "    encoded = pad_sequences([encoded], maxlen=5, padding='pre')\n",
        "    \n",
        "    # 입력한 X(현재 단어)에 대해서 y를 예측하여 result에 저장.\n",
        "    result = model.predict(encoded, verbose=0)\n",
        "    result = np.argmax(result, axis=1)\n",
        "\n",
        "    for word, index in tokenizer.word_index.items(): \n",
        "      # 예측한 단어와 인덱스와 동일한 단어가 있다면 break\n",
        "      if index == result:\n",
        "        break\n",
        "\n",
        "    # 현재 단어 갱신: 현재 단어 + ' ' + 예측 단어\n",
        "    current_word = current_word + ' '  + word\n",
        "    \n",
        "    # 예측 단어를 문장으로 저장\n",
        "    sentence = sentence + ' ' + word\n",
        "\n",
        "  sentence = init_word + sentence\n",
        "  return sentence"
      ],
      "metadata": {
        "id": "LquawxVoVfEa"
      },
      "execution_count": 39,
      "outputs": []
    },
    {
      "cell_type": "markdown",
      "source": [
        "***자신이 학습시킨 문장을 바탕으로 예측을 수행해주세요.***"
      ],
      "metadata": {
        "id": "Yf0i2ATNdY71"
      }
    },
    {
      "cell_type": "code",
      "source": [
        "# '경마장에 있는 말이 뛰고 있다' 문장 예측 시도 (뒤에 올 단어 개수만큼 반복)\n",
        "print(sentence_generation(model, tokenizer, '간장', 5))"
      ],
      "metadata": {
        "colab": {
          "base_uri": "https://localhost:8080/"
        },
        "id": "RyDVGH4rV_ux",
        "outputId": "4f9f6b64-df93-45c4-cfdf-6573921e8ee8"
      },
      "execution_count": 42,
      "outputs": [
        {
          "output_type": "stream",
          "name": "stdout",
          "text": [
            "간장 공장 공장 강 공 공장장이다\n"
          ]
        }
      ]
    },
    {
      "cell_type": "code",
      "source": [
        "print(sentence_generation(model, tokenizer, '간장', 2))\n",
        "print(sentence_generation(model, tokenizer, '공장', 4))"
      ],
      "metadata": {
        "colab": {
          "base_uri": "https://localhost:8080/"
        },
        "id": "h-kuLvvEX9Im",
        "outputId": "7cc76470-469e-4a5f-e6a5-637d34c25ff9"
      },
      "execution_count": 43,
      "outputs": [
        {
          "output_type": "stream",
          "name": "stdout",
          "text": [
            "간장 공장 공장\n",
            "공장 공장 공장 공 공장장이다\n"
          ]
        }
      ]
    }
  ]
}